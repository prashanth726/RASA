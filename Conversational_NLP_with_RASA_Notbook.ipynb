{
  "nbformat": 4,
  "nbformat_minor": 0,
  "metadata": {
    "colab": {
      "name": "Conversational NLP with RASA Notbook.ipynb",
      "provenance": [],
      "collapsed_sections": [
        "TfIt2KH8OxpF"
      ],
      "include_colab_link": true
    },
    "kernelspec": {
      "name": "python3",
      "display_name": "Python 3"
    }
  },
  "cells": [
    {
      "cell_type": "markdown",
      "metadata": {
        "id": "view-in-github",
        "colab_type": "text"
      },
      "source": [
        "<a href=\"https://colab.research.google.com/github/prashanth726/RASA/blob/master/Conversational_NLP_with_RASA_Notbook.ipynb\" target=\"_parent\"><img src=\"https://colab.research.google.com/assets/colab-badge.svg\" alt=\"Open In Colab\"/></a>"
      ]
    },
    {
      "cell_type": "markdown",
      "metadata": {
        "id": "gaQmyYsWny2f",
        "colab_type": "text"
      },
      "source": [
        "# Conversational NLP with the Rasa stack\n",
        "![alt text](https://encrypted-tbn0.gstatic.com/images?q=tbn:ANd9GcTaX3LNhGcAe1HnPZSuWS0oH6af0LJHXcH7If1sQgLCFAT1chNGFg)\n",
        "\n",
        "\n",
        "*   Part 0: Setup workspace\n",
        "*   Part 1: Teaching the chatbot to understand user inputs using Rasa NLU model\n",
        "*   Part 2: Teaching the chatbot to handle multi-turn conversations using dialogue management model\n",
        "*   Part 3: Chat with the bot\n"
      ]
    },
    {
      "cell_type": "markdown",
      "metadata": {
        "id": "w254faCsoNvW",
        "colab_type": "text"
      },
      "source": [
        "## Part 0: setup workspace\n",
        "\n",
        "### Let's start with Installing RASA"
      ]
    },
    {
      "cell_type": "code",
      "metadata": {
        "id": "Q1sGYJpWMaDQ",
        "colab_type": "code",
        "colab": {}
      },
      "source": [
        "!pip install rasa"
      ],
      "execution_count": 0,
      "outputs": []
    },
    {
      "cell_type": "markdown",
      "metadata": {
        "colab_type": "text",
        "id": "OYZmN9ZeNEjN"
      },
      "source": [
        "## Part 1: Intialize RASA\n",
        "\n",
        "### Let's start with Instiaize RASA\n",
        "\n",
        "The rasa init command creates all the files that a Rasa project needs and trains a simple bot on some sample data. If you leave out the --no-prompt flag you will be asked some questions about how you want your project to be set up.\n"
      ]
    },
    {
      "cell_type": "code",
      "metadata": {
        "id": "IHP1NaZCNQtO",
        "colab_type": "code",
        "colab": {}
      },
      "source": [
        "!rasa init --no-prompt"
      ],
      "execution_count": 0,
      "outputs": []
    },
    {
      "cell_type": "markdown",
      "metadata": {
        "colab_type": "text",
        "id": "Iy8YhfzqNW_u"
      },
      "source": [
        "## Part 2: Build and Talk to your Chatbot\n",
        "\n",
        "You just built an assistant powered entirely by machine learning.\n",
        "\n",
        "The next step is to try it out! If you’re following this tutorial on your local machine, start talking to your assistant by running:"
      ]
    },
    {
      "cell_type": "code",
      "metadata": {
        "id": "UMUsMLeiODhg",
        "colab_type": "code",
        "colab": {}
      },
      "source": [
        "!rasa shell"
      ],
      "execution_count": 0,
      "outputs": []
    },
    {
      "cell_type": "markdown",
      "metadata": {
        "id": "M9BNhiJzI8Ru",
        "colab_type": "text"
      },
      "source": [
        "## Part 3: Natural Language Understanding\n",
        "\n",
        "Here some examples of the conversation with sentences from the user and exploited to build Rasa NLU model.  "
      ]
    },
    {
      "cell_type": "markdown",
      "metadata": {
        "id": "eBt1JryJJQqD",
        "colab_type": "text"
      },
      "source": [
        "**Conversation_1:**   \n",
        "U: Hello  \n",
        "\n",
        "B: Hello, how can I help you?  \n",
        "\n",
        "U: It's urgent I need an ambulance, please  \n",
        "\n",
        "B: The number to call is: 112\n",
        "\n",
        "U: Yes, thanks\n",
        "\n",
        "B: You're welcome\n",
        "    \n",
        "**Conversation_2:**  \n",
        "U: Hey  \n",
        "\n",
        "B: Hello, how can I help you?   \n",
        "\n",
        "U: Crime is happening we need to call the police, please\n",
        "\n",
        "B: The number to call is: 112\n",
        "\n",
        "U: Thank you\n",
        "\n",
        "B: You're welcome\n",
        "  \n",
        "**Conversation_3:**    \n",
        "U: Heya  \n",
        "\n",
        "B: Hello, how can I help you?   \n",
        "\n",
        "U: Thieves are entered in my home I need to call my insurance Company, please\n",
        "\n",
        "B: The number to call is: 800-185-001\n",
        "\n",
        "U: Great\n",
        "\n",
        "B: You're welcome  \n",
        " \n"
      ]
    },
    {
      "cell_type": "markdown",
      "metadata": {
        "id": "9lS-XnfJJYGF",
        "colab_type": "text"
      },
      "source": [
        "### Creating the training data for language understanding model\n",
        "\n",
        "In this step is originated a train set grouping user inputs into intents and highlighting key word by entities with its synonyms (entity values).  "
      ]
    },
    {
      "cell_type": "code",
      "metadata": {
        "id": "PBvC19srZEOW",
        "colab_type": "code",
        "outputId": "e1a7cab5-8ee9-4cfa-f5df-1c9f2d40d064",
        "colab": {
          "base_uri": "https://localhost:8080/",
          "height": 34
        }
      },
      "source": [
        "nlu_md = \"\"\"\n",
        "## intent:greet\n",
        "- Hello\n",
        "- Hai\n",
        "\n",
        "## intent:goodbye\n",
        "- bye\n",
        "- goodbye\n",
        "- see you around\n",
        "- see you later\n",
        "\"\"\"\n",
        "\n",
        "%store nlu_md > data/nlu.md"
      ],
      "execution_count": 0,
      "outputs": [
        {
          "output_type": "stream",
          "text": [
            "Writing 'nlu_md' (str) to file 'data/nlu.md'.\n"
          ],
          "name": "stdout"
        }
      ]
    },
    {
      "cell_type": "markdown",
      "metadata": {
        "id": "ZJYk94gKNUpK",
        "colab_type": "text"
      },
      "source": [
        "### Defining the NLU model\n",
        "\n",
        "With the training dataset is possible to build the NLU model by a pipeline which defines how structured data is extracted from unstructured user inputs. "
      ]
    },
    {
      "cell_type": "markdown",
      "metadata": {
        "id": "x8n4CPU9OkVE",
        "colab_type": "text"
      },
      "source": [
        "# Part 2: Handling the dialogue\n",
        "\n",
        "In this part at the chatbot is taught how to make responses by training a dialogue management model with Rasa Core.\n",
        "\n",
        "### Writing Stories\n",
        "\n",
        "The dataset used for dialogue management models are represented by 'stories': actual conversations. User inputs expressed by intents, entities and value entities, start with '*'. Chatbot responses expressed as actions, start with '-'. "
      ]
    },
    {
      "cell_type": "code",
      "metadata": {
        "id": "NZ8BkCJiZyVX",
        "colab_type": "code",
        "colab": {}
      },
      "source": [
        "stories_md = \"\"\"\n",
        "## happy path\n",
        "* greet\n",
        "  - utter_greet\n",
        "\n",
        "## say goodbye\n",
        "* goodbye\n",
        "  - utter_goodbye\n",
        "\"\"\"\n",
        "\n",
        "%store stories_md > data/stories.md"
      ],
      "execution_count": 0,
      "outputs": []
    },
    {
      "cell_type": "markdown",
      "metadata": {
        "id": "TfIt2KH8OxpF",
        "colab_type": "text"
      },
      "source": [
        "### Defining a Domain\n",
        "\n",
        "In the domain is specified the architecture of the dialogue with intents, entities, actions and also templates with answers used by the chatbot to respond to the user and slots which will help the chatbot to keep track of the context.\n"
      ]
    },
    {
      "cell_type": "code",
      "metadata": {
        "id": "AHxZId1UaA3v",
        "colab_type": "code",
        "outputId": "5c06cf7d-56bc-49bd-bab4-a7611f9027d0",
        "colab": {
          "base_uri": "https://localhost:8080/",
          "height": 34
        }
      },
      "source": [
        "domain_yml = \"\"\"\n",
        "intents:\n",
        "- greet\n",
        "- goodbye\n",
        "templates:\n",
        "  utter_greet:\n",
        "  - text: Hey! How are you?\n",
        "  utter_goodbye:\n",
        "  - text: Bye\n",
        "actions:\n",
        "- utter_greet\n",
        "- utter_goodbye\n",
        "\"\"\"\n",
        "\n",
        "%store domain_yml > domain.yml"
      ],
      "execution_count": 0,
      "outputs": [
        {
          "output_type": "stream",
          "text": [
            "Writing 'domain_yml' (str) to file 'domain.yml'.\n"
          ],
          "name": "stdout"
        }
      ]
    },
    {
      "cell_type": "code",
      "metadata": {
        "id": "hgkzbno2Rnh_",
        "colab_type": "code",
        "colab": {}
      },
      "source": [
        "!rasa train"
      ],
      "execution_count": 0,
      "outputs": []
    },
    {
      "cell_type": "code",
      "metadata": {
        "id": "qmPfWUJrSKgI",
        "colab_type": "code",
        "colab": {}
      },
      "source": [
        "!rasa shell"
      ],
      "execution_count": 0,
      "outputs": []
    }
  ]
}